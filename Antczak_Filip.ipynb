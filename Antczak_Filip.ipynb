{
    "nbformat": 4,
    "nbformat_minor": 0,
    "metadata": {
        "colab": {
            "provenance": []
        },
        "kernelspec": {
            "name": "python3",
            "display_name": "Python 3"
        },
        "language_info": {
            "name": "python"
        }
    },
    "cells": [
        {
            "cell_type": "markdown",
            "source": [
                "Zestaw 1"
            ],
            "metadata": {
                "id": "k2E51ihx0yKW"
            }
        },
        {
            "cell_type": "markdown",
            "source": [
                "Zad 1"
            ],
            "metadata": {
                "id": "h7beNbbj1GfD"
            }
        },
        {
            "cell_type": "markdown",
            "source": [
                "Prosta gra logiczna [20]",
                "Zaprojektuj prost\u0105 gr\u0119, w kt\u00f3rej komputer generuje trzy cyfry od 0 do 9. U\u017cytkownik pr\u00f3buje odgadn\u0105\u0107 wszystkie trzy cyfry. Po ka\u017cdej pr\u00f3bie komputer informuje, ile cyfr odgadni\u0119to poprawnie. Po zako\u0144czeniu gry podaj liczb\u0119 pr\u00f3b u\u017cytkownika."
            ],
            "metadata": {
                "id": "ZoV5LH2F00cz"
            }
        },
        {
            "cell_type": "code",
            "source": [],
            "metadata": {
                "id": "lFn3WXj81JGt"
            },
            "execution_count": null,
            "outputs": []
        },
        {
            "cell_type": "markdown",
            "source": [
                "Zad 2"
            ],
            "metadata": {
                "id": "dfXJ9imL1JfW"
            }
        },
        {
            "cell_type": "markdown",
            "source": [
                "Iterator liczb parzystych [20]",
                "Zaimplementuj klas\u0119 iteratora, kt\u00f3ry generuje kolejne liczby parzyste, zaczynaj\u0105c od liczby podanej przez u\u017cytkownika. U\u017cytkownik okre\u015bla, ile liczb parzystych chce uzyska\u0107."
            ],
            "metadata": {
                "id": "B_vg96ez1KuD"
            }
        },
        {
            "cell_type": "code",
            "source": [],
            "metadata": {
                "id": "ZIzKmoon1hnR"
            },
            "execution_count": null,
            "outputs": []
        },
        {
            "cell_type": "markdown",
            "source": [
                "Zad 3"
            ],
            "metadata": {
                "id": "gt-cDtuk1h8c"
            }
        },
        {
            "cell_type": "markdown",
            "source": [
                "Modu\u0142 w\u0142asny [5]",
                "Utw\u00f3rz prost\u0105 funkcj\u0119 sprawdzaj\u0105c\u0105 czy liczba jest doskona\u0142a, nast\u0119pnie umie\u015b\u0107 j\u0105 w osobnym module i zaimportuj pod inn\u0105 nazw\u0105. Wykonaj test tej funkcji."
            ],
            "metadata": {
                "id": "IziCDjZb1jhf"
            }
        },
        {
            "cell_type": "code",
            "source": [],
            "metadata": {
                "id": "TwfXHKpZ1yBG"
            },
            "execution_count": null,
            "outputs": []
        },
        {
            "cell_type": "markdown",
            "source": [
                "Zad 4"
            ],
            "metadata": {
                "id": "FsmYxa0318pO"
            }
        },
        {
            "cell_type": "markdown",
            "source": [
                "Lambda i listy [10]",
                "Napisz wyra\u017cenie lambda, kt\u00f3re dla podanej listy liczb ca\u0142kowitych zwr\u00f3ci `True`, je\u015bli wszystkie liczby s\u0105 wi\u0119ksze od 0 lub wszystkie s\u0105 mniejsze od 0. Wykonaj test dla przyk\u0142adowych danych."
            ],
            "metadata": {
                "id": "gFRtqUsI1-XZ"
            }
        },
        {
            "cell_type": "code",
            "source": [],
            "metadata": {
                "id": "2nRTbeKE2Kp4"
            },
            "execution_count": null,
            "outputs": []
        }
    ]
}